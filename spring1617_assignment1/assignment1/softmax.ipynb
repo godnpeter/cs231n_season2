{
 "cells": [
  {
   "cell_type": "markdown",
   "metadata": {},
   "source": [
    "# Softmax exercise\n",
    "\n",
    "*Complete and hand in this completed worksheet (including its outputs and any supporting code outside of the worksheet) with your assignment submission. For more details see the [assignments page](http://vision.stanford.edu/teaching/cs231n/assignments.html) on the course website.*\n",
    "\n",
    "This exercise is analogous to the SVM exercise. You will:\n",
    "\n",
    "- implement a fully-vectorized **loss function** for the Softmax classifier\n",
    "- implement the fully-vectorized expression for its **analytic gradient**\n",
    "- **check your implementation** with numerical gradient\n",
    "- use a validation set to **tune the learning rate and regularization** strength\n",
    "- **optimize** the loss function with **SGD**\n",
    "- **visualize** the final learned weights\n"
   ]
  },
  {
   "cell_type": "code",
   "execution_count": 2,
   "metadata": {
    "collapsed": false
   },
   "outputs": [],
   "source": [
    "from __future__ import print_function\n",
    "\n",
    "import random\n",
    "import numpy as np\n",
    "from cs231n.data_utils import load_CIFAR10\n",
    "import matplotlib.pyplot as plt\n",
    "\n",
    "\n",
    "\n",
    "%matplotlib inline\n",
    "plt.rcParams['figure.figsize'] = (10.0, 8.0) # set default size of plots\n",
    "plt.rcParams['image.interpolation'] = 'nearest'\n",
    "plt.rcParams['image.cmap'] = 'gray'\n",
    "\n",
    "# for auto-reloading extenrnal modules\n",
    "# see http://stackoverflow.com/questions/1907993/autoreload-of-modules-in-ipython\n",
    "%load_ext autoreload\n",
    "%autoreload 2"
   ]
  },
  {
   "cell_type": "code",
   "execution_count": 3,
   "metadata": {
    "collapsed": false
   },
   "outputs": [
    {
     "name": "stdout",
     "output_type": "stream",
     "text": [
      "Train data shape:  (49000, 3073)\n",
      "Train labels shape:  (49000,)\n",
      "Validation data shape:  (1000, 3073)\n",
      "Validation labels shape:  (1000,)\n",
      "Test data shape:  (1000, 3073)\n",
      "Test labels shape:  (1000,)\n",
      "dev data shape:  (500, 3073)\n",
      "dev labels shape:  (500,)\n"
     ]
    }
   ],
   "source": [
    "def get_CIFAR10_data(num_training=49000, num_validation=1000, num_test=1000, num_dev=500):\n",
    "    \"\"\"\n",
    "    Load the CIFAR-10 dataset from disk and perform preprocessing to prepare\n",
    "    it for the linear classifier. These are the same steps as we used for the\n",
    "    SVM, but condensed to a single function.  \n",
    "    \"\"\"\n",
    "    # Load the raw CIFAR-10 data\n",
    "    cifar10_dir = 'cs231n/datasets/cifar-10-batches-py'\n",
    "    X_train, y_train, X_test, y_test = load_CIFAR10(cifar10_dir)\n",
    "    \n",
    "    # subsample the data\n",
    "    mask = list(range(num_training, num_training + num_validation))\n",
    "    X_val = X_train[mask]\n",
    "    y_val = y_train[mask]\n",
    "    mask = list(range(num_training))\n",
    "    X_train = X_train[mask]\n",
    "    y_train = y_train[mask]\n",
    "    mask = list(range(num_test))\n",
    "    X_test = X_test[mask]\n",
    "    y_test = y_test[mask]\n",
    "    mask = np.random.choice(num_training, num_dev, replace=False)\n",
    "    X_dev = X_train[mask]\n",
    "    y_dev = y_train[mask]\n",
    "    \n",
    "    # Preprocessing: reshape the image data into rows\n",
    "    X_train = np.reshape(X_train, (X_train.shape[0], -1))\n",
    "    X_val = np.reshape(X_val, (X_val.shape[0], -1))\n",
    "    X_test = np.reshape(X_test, (X_test.shape[0], -1))\n",
    "    X_dev = np.reshape(X_dev, (X_dev.shape[0], -1))\n",
    "    \n",
    "    # Normalize the data: subtract the mean image\n",
    "    mean_image = np.mean(X_train, axis = 0)\n",
    "    X_train -= mean_image\n",
    "    X_val -= mean_image\n",
    "    X_test -= mean_image\n",
    "    X_dev -= mean_image\n",
    "    \n",
    "    # add bias dimension and transform into columns\n",
    "    X_train = np.hstack([X_train, np.ones((X_train.shape[0], 1))])\n",
    "    X_val = np.hstack([X_val, np.ones((X_val.shape[0], 1))])\n",
    "    X_test = np.hstack([X_test, np.ones((X_test.shape[0], 1))])\n",
    "    X_dev = np.hstack([X_dev, np.ones((X_dev.shape[0], 1))])\n",
    "    \n",
    "    return X_train, y_train, X_val, y_val, X_test, y_test, X_dev, y_dev\n",
    "\n",
    "\n",
    "# Invoke the above function to get our data.\n",
    "X_train, y_train, X_val, y_val, X_test, y_test, X_dev, y_dev = get_CIFAR10_data()\n",
    "print('Train data shape: ', X_train.shape)\n",
    "print('Train labels shape: ', y_train.shape)\n",
    "print('Validation data shape: ', X_val.shape)\n",
    "print('Validation labels shape: ', y_val.shape)\n",
    "print('Test data shape: ', X_test.shape)\n",
    "print('Test labels shape: ', y_test.shape)\n",
    "print('dev data shape: ', X_dev.shape)\n",
    "print('dev labels shape: ', y_dev.shape)"
   ]
  },
  {
   "cell_type": "markdown",
   "metadata": {},
   "source": [
    "## Softmax Classifier\n",
    "\n",
    "Your code for this section will all be written inside **cs231n/classifiers/softmax.py**. \n"
   ]
  },
  {
   "cell_type": "code",
   "execution_count": 16,
   "metadata": {
    "collapsed": false
   },
   "outputs": [
    {
     "name": "stdout",
     "output_type": "stream",
     "text": [
      "loss: 2.327292\n",
      "sanity check: 2.302585\n"
     ]
    }
   ],
   "source": [
    "# First implement the naive softmax loss function with nested loops.\n",
    "# Open the file cs231n/classifiers/softmax.py and implement the\n",
    "# softmax_loss_naive function.\n",
    "\n",
    "from cs231n.classifiers.softmax import softmax_loss_naive\n",
    "import time\n",
    "\n",
    "# Generate a random softmax weight matrix and use it to compute the loss.\n",
    "W = np.random.randn(3073, 10) * 0.0001\n",
    "loss, grad = softmax_loss_naive(W, X_dev, y_dev, 0.0)\n",
    "\n",
    "# As a rough sanity check, our loss should be something close to -log(0.1).\n",
    "print('loss: %f' % loss)\n",
    "print('sanity check: %f' % (-np.log(0.1)))"
   ]
  },
  {
   "cell_type": "markdown",
   "metadata": {},
   "source": [
    "## Inline Question 1:\n",
    "Why do we expect our loss to be close to -log(0.1)? Explain briefly.**\n",
    "\n",
    "**Your answer:** *Fill this in*\n"
   ]
  },
  {
   "cell_type": "code",
   "execution_count": 17,
   "metadata": {
    "collapsed": false
   },
   "outputs": [
    {
     "name": "stdout",
     "output_type": "stream",
     "text": [
      "numerical: 1.334882 analytic: 1.334882, relative error: 3.242953e-08\n",
      "numerical: 1.640687 analytic: 1.640687, relative error: 4.032318e-08\n",
      "numerical: -1.850544 analytic: -1.850544, relative error: 5.168774e-09\n",
      "numerical: 0.494100 analytic: 0.494100, relative error: 3.237172e-08\n",
      "numerical: 2.134116 analytic: 2.134116, relative error: 7.121811e-09\n",
      "numerical: 0.704323 analytic: 0.704323, relative error: 6.892389e-08\n",
      "numerical: -1.257222 analytic: -1.257222, relative error: 3.807789e-09\n",
      "numerical: -0.589400 analytic: -0.589400, relative error: 8.614060e-08\n",
      "numerical: 0.702446 analytic: 0.702446, relative error: 3.255684e-08\n",
      "numerical: -1.013758 analytic: -1.013758, relative error: 2.569514e-08\n",
      "numerical: 1.558271 analytic: 1.558271, relative error: 3.852720e-08\n",
      "numerical: 0.356465 analytic: 0.356465, relative error: 4.402131e-08\n",
      "numerical: 0.330928 analytic: 0.330928, relative error: 6.283602e-08\n",
      "numerical: -3.384868 analytic: -3.384868, relative error: 9.928225e-09\n",
      "numerical: 0.051799 analytic: 0.051799, relative error: 1.359118e-07\n",
      "numerical: 1.108059 analytic: 1.108059, relative error: 5.938104e-08\n",
      "numerical: 0.259210 analytic: 0.259210, relative error: 3.944489e-08\n",
      "numerical: 1.392733 analytic: 1.392733, relative error: 4.948462e-08\n",
      "numerical: -2.113634 analytic: -2.113634, relative error: 1.130452e-08\n",
      "numerical: 1.225415 analytic: 1.225415, relative error: 3.619460e-08\n"
     ]
    }
   ],
   "source": [
    "# Complete the implementation of softmax_loss_naive and implement a (naive)\n",
    "# version of the gradient that uses nested loops.\n",
    "loss, grad = softmax_loss_naive(W, X_dev, y_dev, 0.0)\n",
    "\n",
    "# As we did for the SVM, use numeric gradient checking as a debugging tool.\n",
    "# The numeric gradient should be close to the analytic gradient.\n",
    "from cs231n.gradient_check import grad_check_sparse\n",
    "f = lambda w: softmax_loss_naive(w, X_dev, y_dev, 0.0)[0]\n",
    "grad_numerical = grad_check_sparse(f, W, grad, 10)\n",
    "\n",
    "# similar to SVM case, do another gradient check with regularization\n",
    "loss, grad = softmax_loss_naive(W, X_dev, y_dev, 5e1)\n",
    "f = lambda w: softmax_loss_naive(w, X_dev, y_dev, 5e1)[0]\n",
    "grad_numerical = grad_check_sparse(f, W, grad, 10)"
   ]
  },
  {
   "cell_type": "code",
   "execution_count": 27,
   "metadata": {
    "collapsed": false
   },
   "outputs": [
    {
     "name": "stdout",
     "output_type": "stream",
     "text": [
      "naive loss: 2.327292e+00 computed in 0.102620s\n",
      "vectorized loss: 2.327292e+00 computed in 0.003739s\n",
      "Loss difference: 0.000000\n",
      "Gradient difference: 0.000000\n"
     ]
    }
   ],
   "source": [
    "# Now that we have a naive implementation of the softmax loss function and its gradient,\n",
    "# implement a vectorized version in softmax_loss_vectorized.\n",
    "# The two versions should compute the same results, but the vectorized version should be\n",
    "# much faster.\n",
    "tic = time.time()\n",
    "loss_naive, grad_naive = softmax_loss_naive(W, X_dev, y_dev, 0.000005)\n",
    "toc = time.time()\n",
    "print('naive loss: %e computed in %fs' % (loss_naive, toc - tic))\n",
    "\n",
    "from cs231n.classifiers.softmax import softmax_loss_vectorized\n",
    "tic = time.time()\n",
    "loss_vectorized, grad_vectorized = softmax_loss_vectorized(W, X_dev, y_dev, 0.000005)\n",
    "toc = time.time()\n",
    "print('vectorized loss: %e computed in %fs' % (loss_vectorized, toc - tic))\n",
    "\n",
    "# As we did for the SVM, we use the Frobenius norm to compare the two versions\n",
    "# of the gradient.\n",
    "grad_difference = np.linalg.norm(grad_naive - grad_vectorized, ord='fro')\n",
    "print('Loss difference: %f' % np.abs(loss_naive - loss_vectorized))\n",
    "print('Gradient difference: %f' % grad_difference)"
   ]
  },
  {
   "cell_type": "code",
   "execution_count": 29,
   "metadata": {
    "collapsed": false
   },
   "outputs": [
    {
     "name": "stdout",
     "output_type": "stream",
     "text": [
      "iteration 0 / 1500: loss 769.069001\n",
      "iteration 100 / 1500: loss 282.115605\n",
      "iteration 200 / 1500: loss 104.574149\n",
      "iteration 300 / 1500: loss 39.592659\n",
      "iteration 400 / 1500: loss 15.849235\n",
      "iteration 500 / 1500: loss 7.103165\n",
      "iteration 600 / 1500: loss 3.946237\n",
      "iteration 700 / 1500: loss 2.791288\n",
      "iteration 800 / 1500: loss 2.414464\n",
      "iteration 900 / 1500: loss 2.063443\n",
      "iteration 1000 / 1500: loss 2.086557\n",
      "iteration 1100 / 1500: loss 2.115962\n",
      "iteration 1200 / 1500: loss 2.068071\n",
      "iteration 1300 / 1500: loss 2.092828\n",
      "iteration 1400 / 1500: loss 2.068388\n",
      "training accuracy: 0.331551\n",
      "validation accuracy: 0.347000\n",
      "iteration 0 / 1500: loss 1550.133647\n",
      "iteration 100 / 1500: loss 208.716576\n",
      "iteration 200 / 1500: loss 29.723989\n",
      "iteration 300 / 1500: loss 5.818961\n",
      "iteration 400 / 1500: loss 2.604888\n",
      "iteration 500 / 1500: loss 2.196774\n",
      "iteration 600 / 1500: loss 2.142389\n",
      "iteration 700 / 1500: loss 2.116182\n",
      "iteration 800 / 1500: loss 2.139725\n",
      "iteration 900 / 1500: loss 2.116561\n",
      "iteration 1000 / 1500: loss 2.112784\n",
      "iteration 1100 / 1500: loss 2.117929\n",
      "iteration 1200 / 1500: loss 2.123291\n",
      "iteration 1300 / 1500: loss 2.112739\n",
      "iteration 1400 / 1500: loss 2.134756\n",
      "training accuracy: 0.304878\n",
      "validation accuracy: 0.327000\n",
      "iteration 0 / 1500: loss 779.495261\n",
      "iteration 100 / 1500: loss 6.944197\n",
      "iteration 200 / 1500: loss 2.117075\n",
      "iteration 300 / 1500: loss 2.098706\n",
      "iteration 400 / 1500: loss 2.170144\n",
      "iteration 500 / 1500: loss 2.175270\n",
      "iteration 600 / 1500: loss 2.117511\n",
      "iteration 700 / 1500: loss 2.112712\n",
      "iteration 800 / 1500: loss 2.108591\n",
      "iteration 900 / 1500: loss 2.056263\n",
      "iteration 1000 / 1500: loss 2.137431\n",
      "iteration 1100 / 1500: loss 2.140779\n",
      "iteration 1200 / 1500: loss 2.024070\n",
      "iteration 1300 / 1500: loss 2.093277\n",
      "iteration 1400 / 1500: loss 2.065600\n",
      "training accuracy: 0.321265\n",
      "validation accuracy: 0.337000\n",
      "iteration 0 / 1500: loss 1560.492209\n",
      "iteration 100 / 1500: loss 2.201752\n",
      "iteration 200 / 1500: loss 2.160451\n",
      "iteration 300 / 1500: loss 2.136734\n",
      "iteration 400 / 1500: loss 2.157854\n",
      "iteration 500 / 1500: loss 2.119388\n",
      "iteration 600 / 1500: loss 2.171153\n",
      "iteration 700 / 1500: loss 2.137006\n",
      "iteration 800 / 1500: loss 2.134593\n",
      "iteration 900 / 1500: loss 2.135992\n",
      "iteration 1000 / 1500: loss 2.154552\n",
      "iteration 1100 / 1500: loss 2.132231\n",
      "iteration 1200 / 1500: loss 2.186593\n",
      "iteration 1300 / 1500: loss 2.147491\n",
      "iteration 1400 / 1500: loss 2.098972\n",
      "training accuracy: 0.297184\n",
      "validation accuracy: 0.310000\n",
      "lr 1.000000e-07 reg 2.500000e+04 train accuracy: 0.331551 val accuracy: 0.347000\n",
      "lr 1.000000e-07 reg 5.000000e+04 train accuracy: 0.304878 val accuracy: 0.327000\n",
      "lr 5.000000e-07 reg 2.500000e+04 train accuracy: 0.321265 val accuracy: 0.337000\n",
      "lr 5.000000e-07 reg 5.000000e+04 train accuracy: 0.297184 val accuracy: 0.310000\n",
      "best validation accuracy achieved during cross-validation: 0.347000\n"
     ]
    }
   ],
   "source": [
    "# Use the validation set to tune hyperparameters (regularization strength and\n",
    "# learning rate). You should experiment with different ranges for the learning\n",
    "# rates and regularization strengths; if you are careful you should be able to\n",
    "# get a classification accuracy of over 0.35 on the validation set.\n",
    "from cs231n.classifiers import Softmax\n",
    "results = {}\n",
    "best_val = -1\n",
    "best_softmax = None\n",
    "learning_rates = [1e-7, 5e-7]\n",
    "regularization_strengths = [2.5e4, 5e4]\n",
    "\n",
    "################################################################################\n",
    "# TODO:                                                                        #\n",
    "# Use the validation set to set the learning rate and regularization strength. #\n",
    "# This should be identical to the validation that you did for the SVM; save    #\n",
    "# the best trained softmax classifer in best_softmax.                          #\n",
    "################################################################################\n",
    "\n",
    "for lr in learning_rates:\n",
    "    for r in regularization_strengths:\n",
    "        \n",
    "        softmax = Softmax()\n",
    "\n",
    "        loss_hist = softmax.train(X_train, y_train, learning_rate=lr, reg=r,\n",
    "                      num_iters=1500, verbose=True)\n",
    "    \n",
    "        y_train_pred = softmax.predict(X_train)\n",
    "        print('training accuracy: %f' % (np.mean(y_train == y_train_pred), ))\n",
    "        y_val_pred = softmax.predict(X_val)\n",
    "        print('validation accuracy: %f' % (np.mean(y_val == y_val_pred), ))\n",
    "        y_train_accuracy = np.mean(y_train == y_train_pred)\n",
    "        y_val_accuracy = np.mean(y_val == y_val_pred)\n",
    "        \n",
    "        \n",
    "        results[((lr, r))] = (y_train_accuracy, y_val_accuracy)\n",
    "        val_accuracy = y_val_accuracy\n",
    "        \n",
    "        if val_accuracy > best_val:\n",
    "            best_val = val_accuracy\n",
    "            best_softmax = softmax\n",
    "\n",
    "################################################################################\n",
    "#                              END OF YOUR CODE                                #\n",
    "################################################################################\n",
    "    \n",
    "# Print out results.\n",
    "for lr, reg in sorted(results):\n",
    "    train_accuracy, val_accuracy = results[(lr, reg)]\n",
    "    print('lr %e reg %e train accuracy: %f val accuracy: %f' % (\n",
    "                lr, reg, train_accuracy, val_accuracy))\n",
    "    \n",
    "print('best validation accuracy achieved during cross-validation: %f' % best_val)"
   ]
  },
  {
   "cell_type": "code",
   "execution_count": 30,
   "metadata": {
    "collapsed": false
   },
   "outputs": [
    {
     "name": "stdout",
     "output_type": "stream",
     "text": [
      "softmax on raw pixels final test set accuracy: 0.350000\n"
     ]
    }
   ],
   "source": [
    "# evaluate on test set\n",
    "# Evaluate the best softmax on test set\n",
    "y_test_pred = best_softmax.predict(X_test)\n",
    "test_accuracy = np.mean(y_test == y_test_pred)\n",
    "print('softmax on raw pixels final test set accuracy: %f' % (test_accuracy, ))"
   ]
  },
  {
   "cell_type": "code",
   "execution_count": 31,
   "metadata": {
    "collapsed": false
   },
   "outputs": [
    {
     "data": {
      "image/png": "[encoded data removed]",
      "text/plain": [
       "<Figure size 432x288 with 10 Axes>"
      ]
     },
     "metadata": {
      "needs_background": "light"
     },
     "output_type": "display_data"
    }
   ],
   "source": [
    "# Visualize the learned weights for each class\n",
    "w = best_softmax.W[:-1,:] # strip out the bias\n",
    "w = w.reshape(32, 32, 3, 10)\n",
    "\n",
    "w_min, w_max = np.min(w), np.max(w)\n",
    "\n",
    "classes = ['plane', 'car', 'bird', 'cat', 'deer', 'dog', 'frog', 'horse', 'ship', 'truck']\n",
    "for i in range(10):\n",
    "    plt.subplot(2, 5, i + 1)\n",
    "    \n",
    "    # Rescale the weights to be between 0 and 255\n",
    "    wimg = 255.0 * (w[:, :, :, i].squeeze() - w_min) / (w_max - w_min)\n",
    "    plt.imshow(wimg.astype('uint8'))\n",
    "    plt.axis('off')\n",
    "    plt.title(classes[i])"
   ]
  },
  {
   "cell_type": "code",
   "execution_count": null,
   "metadata": {},
   "outputs": [],
   "source": []
  }
 ],
 "metadata": {
  "kernelspec": {
   "display_name": "cs231n_1",
   "language": "python",
   "name": "cs231n_1"
  },
  "language_info": {
   "codemirror_mode": {
    "name": "ipython",
    "version": 3
   },
   "file_extension": ".py",
   "mimetype": "text/x-python",
   "name": "python",
   "nbconvert_exporter": "python",
   "pygments_lexer": "ipython3",
   "version": "3.5.6"
  }
 },
 "nbformat": 4,
 "nbformat_minor": 2
}
